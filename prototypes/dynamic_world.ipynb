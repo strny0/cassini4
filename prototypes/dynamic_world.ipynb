{
 "cells": [
  {
   "cell_type": "code",
   "execution_count": null,
   "metadata": {
    "pycharm": {
     "name": "#%%\n"
    }
   },
   "outputs": [],
   "source": [
    "%pip install earthengine-api -q\n",
    "%pip install folium -q"
   ]
  },
  {
   "cell_type": "code",
   "execution_count": null,
   "metadata": {
    "pycharm": {
     "name": "#%%\n"
    }
   },
   "outputs": [],
   "source": [
    "import ee\n",
    "import folium\n",
    "import pandas as pd"
   ]
  },
  {
   "cell_type": "code",
   "execution_count": null,
   "metadata": {
    "pycharm": {
     "name": "#%%\n"
    }
   },
   "outputs": [],
   "source": [
    "ee.Authenticate()"
   ]
  },
  {
   "cell_type": "code",
   "execution_count": null,
   "metadata": {
    "pycharm": {
     "name": "#%%\n"
    }
   },
   "outputs": [],
   "source": [
    "ee.Initialize()"
   ]
  },
  {
   "cell_type": "code",
   "execution_count": null,
   "metadata": {
    "pycharm": {
     "name": "#%%\n"
    }
   },
   "outputs": [],
   "source": [
    "\n",
    "CLASS_NAMES = [\n",
    "    \"water\",\n",
    "    \"trees\",\n",
    "    \"grass\",\n",
    "    \"flooded_vegetation\",\n",
    "    \"crops\",\n",
    "    \"shrub_and_scrub\",\n",
    "    \"built\",\n",
    "    \"bare\",\n",
    "    \"snow_and_ice\",\n",
    "]\n",
    "\n",
    "VIS_PALETTE = [\n",
    "    \"419BDF\",\n",
    "    \"397D49\",\n",
    "    \"88B053\",\n",
    "    \"7A87C6\",\n",
    "    \"E49635\",\n",
    "    \"DFC35A\",\n",
    "    \"C4281B\",\n",
    "    \"A59B8F\",\n",
    "    \"B39FE1\",\n",
    "]\n",
    "position = (26, 113) # China"
   ]
  },
  {
   "cell_type": "code",
   "execution_count": null,
   "metadata": {
    "pycharm": {
     "name": "#%%\n"
    }
   },
   "outputs": [],
   "source": [
    "dw = ee.ImageCollection(\"GOOGLE/DYNAMICWORLD/V1\")\n",
    "dwImage = ee.Image(dw.filterDate(\"2022-10-01\", \"2022-10-07\").median())\n",
    "dwRgb = dwImage.select('label').visualize(min=0, max=8, palette=VIS_PALETTE).divide(255)\n",
    "top1Prob = dwImage.select(CLASS_NAMES).reduce(ee.Reducer.max())\n",
    "top1ProbHillshade = ee.Terrain.hillshade(top1Prob.multiply(100)).divide(255)\n",
    "dwRgbHillshade = dwRgb.multiply(top1ProbHillshade)"
   ]
  },
  {
   "cell_type": "code",
   "execution_count": null,
   "metadata": {
    "pycharm": {
     "name": "#%%\n"
    }
   },
   "outputs": [],
   "source": [
    "def add_ee_layer(self, ee_image_object, vis_params, name, opacity=0.5):\n",
    "    \"\"\"Adds a method for displaying Earth Engine image tiles to folium map.\"\"\"\n",
    "    map_id_dict = ee.Image(ee_image_object).getMapId(vis_params)\n",
    "    folium.raster_layers.TileLayer(\n",
    "        tiles=map_id_dict[\"tile_fetcher\"].url_format,\n",
    "        attr='Map Data &copy; <a href=\"https://earthengine.google.com/\">Google Earth Engine</a>',\n",
    "        name=name,\n",
    "        overlay=True,\n",
    "        control=True,\n",
    "        opacity=opacity,\n",
    "    ).add_to(self)\n",
    "\n",
    "\n",
    "folium.Map.add_ee_layer = add_ee_layer\n",
    "\n",
    "\n",
    "def display_map(position, image: ee.Image, zoom=10):\n",
    "    my_map = folium.Map(location=position, zoom_start=zoom)\n",
    "    my_map.add_ee_layer(image, {\"min\": 0, \"max\": 0.65}, \"Dynamic World\", opacity=0.4)\n",
    "    display(my_map)\n"
   ]
  },
  {
   "cell_type": "code",
   "execution_count": null,
   "metadata": {
    "pycharm": {
     "name": "#%%\n"
    }
   },
   "outputs": [],
   "source": [
    "display_map(position, dwRgbHillshade)"
   ]
  },
  {
   "cell_type": "code",
   "execution_count": null,
   "metadata": {
    "pycharm": {
     "name": "#%%\n"
    }
   },
   "outputs": [],
   "source": []
  },
  {
   "cell_type": "code",
   "execution_count": null,
   "metadata": {
    "pycharm": {
     "name": "#%%\n"
    }
   },
   "outputs": [],
   "source": []
  },
  {
   "cell_type": "code",
   "execution_count": null,
   "metadata": {
    "pycharm": {
     "name": "#%%\n"
    }
   },
   "outputs": [],
   "source": []
  }
 ],
 "metadata": {
  "kernelspec": {
   "display_name": "Python 3.10.5 64-bit ('3.10.5')",
   "language": "python",
   "name": "python3"
  },
  "language_info": {
   "codemirror_mode": {
    "name": "ipython",
    "version": 3
   },
   "file_extension": ".py",
   "mimetype": "text/x-python",
   "name": "python",
   "nbconvert_exporter": "python",
   "pygments_lexer": "ipython3",
   "version": "3.10.5"
  },
  "orig_nbformat": 4,
  "vscode": {
   "interpreter": {
    "hash": "d0503c43f2ab5c03bebd7bed60bd29ad5b59e3aca827470611dad3d52c7c85bb"
   }
  }
 },
 "nbformat": 4,
 "nbformat_minor": 2
}