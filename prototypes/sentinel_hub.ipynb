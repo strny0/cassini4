{
 "cells": [
  {
   "cell_type": "code",
   "execution_count": 1,
   "metadata": {
    "pycharm": {
     "name": "#%%\n"
    }
   },
   "outputs": [],
   "source": [
    "API_KEY = \"m9Cldgx98d_GFwd6NvjsHMOfna83pwg6nDlA_jBAEFoaNru37ytjXb9oaxEkZqp_ZcPDmHYhhwdj5yoRTphXNQ==\""
   ]
  },
  {
   "cell_type": "code",
   "execution_count": 32,
   "metadata": {
    "pycharm": {
     "name": "#%%\n"
    }
   },
   "outputs": [],
   "source": [
    "from oauthlib.oauth2 import BackendApplicationClient\n",
    "from requests_oauthlib import OAuth2Session\n",
    "import requests\n",
    "from PIL import Image\n",
    "import io\n",
    "import numpy as np\n",
    "import matplotlib.pyplot as plt"
   ]
  },
  {
   "cell_type": "code",
   "execution_count": 22,
   "metadata": {
    "pycharm": {
     "name": "#%%\n"
    }
   },
   "outputs": [],
   "source": [
    "CLIENT_ID = \"65fd7687-e605-44fe-9716-34761d042f0c\"\n",
    "CLIENT_SECRET = \"fR_L){cGLXoCGBC)cE9.9Q~{:W];zCEt&9p(Ia{*\" "
   ]
  },
  {
   "cell_type": "code",
   "execution_count": 23,
   "metadata": {
    "pycharm": {
     "name": "#%%\n"
    }
   },
   "outputs": [],
   "source": [
    "# set up credentials\n",
    "client = BackendApplicationClient(client_id=CLIENT_ID)\n",
    "oauth = OAuth2Session(client=client)\n",
    "\n",
    "# get an authentication token\n",
    "token = oauth.fetch_token(token_url='https://services.sentinel-hub.com/oauth/token',\n",
    "                          client_id=CLIENT_ID, client_secret=CLIENT_SECRET)"
   ]
  },
  {
   "cell_type": "code",
   "execution_count": 24,
   "metadata": {
    "pycharm": {
     "name": "#%%\n"
    }
   },
   "outputs": [
    {
     "data": {
      "text/plain": [
       "{'access_token': 'eyJraWQiOiJzaCIsImFsZyI6IlJTMjU2In0.eyJzdWIiOiI5OWI0YTA4NC0zNjc4LTQ0N2EtYmQyOC1hMGE5N2Q5MjE5NjMiLCJhdWQiOiI2NWZkNzY4Ny1lNjA1LTQ0ZmUtOTcxNi0zNDc2MWQwNDJmMGMiLCJqdGkiOiI4OWY4YTQyNS01YjJjLTQwMzItODdhMi1hNTVlZDJhZmU1ODIiLCJleHAiOjE2Njc2NTMxODIsIm5hbWUiOiJKYWt1YiBTdHJuYWQiLCJlbWFpbCI6Impha3ViLnN0cm5hZEBwcm90b25tYWlsLmNvbSIsImdpdmVuX25hbWUiOiJKYWt1YiIsImZhbWlseV9uYW1lIjoiU3RybmFkIiwic2lkIjoiNTE3OTk3MmItYzZlMS00ZTY0LTg3YTktZTgzZTVkM2RkZjY2IiwiZGlkIjoxLCJhaWQiOiI2ZTk1ZWRlOC02YjZhLTQ2MDAtYjg4My1jYmQ3NmZmMDk3ZWQiLCJkIjp7IjEiOnsicmEiOnsicmFnIjoxfSwidCI6MTEwMDB9fX0.R5RoG_BZNbOZpF-4gCfxQLo9XWCWMOl68MGrvO7I7IVPVPdvWuvCMntPNpSprzFzQhfKyFzttk0oZRlPY_qpo4xHJfsCug11aOEbruOmhgx1Y2v4dkhD6C9WCyot3Q-ZSEkaf1jPfLThFdSakjBN76t-osn1J3md8j_18Dqs0ztmgvc71bxrx1Xr_6nzJwGmcl3G_Nd22qG9gCPsM8bb-1Y3-8X69O3Rbpbp3KDzkfg_i3SP5VIbN67F2bNv0d5qceczSlq7jMrXrV5HvBigA7U8tG31bigGQrpfZ4jag9W92LAM6_W9BKJBVejzD2QhFO5Y2KgPe0_GNnELjDvo-w',\n",
       " 'expires_in': 3599,\n",
       " 'expires_at': 1667653181.8621495}"
      ]
     },
     "execution_count": 24,
     "metadata": {},
     "output_type": "execute_result"
    }
   ],
   "source": [
    "token"
   ]
  },
  {
   "cell_type": "code",
   "execution_count": 19,
   "metadata": {
    "pycharm": {
     "name": "#%%\n"
    }
   },
   "outputs": [
    {
     "name": "stderr",
     "output_type": "stream",
     "text": [
      "c:\\Users\\jstrnad\\.pyenv\\pyenv-win\\versions\\3.10.5\\lib\\site-packages\\urllib3\\connectionpool.py:1045: InsecureRequestWarning: Unverified HTTPS request is being made to host 'sobloo.eu'. Adding certificate verification is strongly advised. See: https://urllib3.readthedocs.io/en/1.26.x/advanced-usage.html#ssl-warnings\n",
      "  warnings.warn(\n"
     ]
    },
    {
     "name": "stdout",
     "output_type": "stream",
     "text": [
      "200\n",
      "{'collection': 'catalog', 'nbhits': 0, 'totalnb': 0, 'links': {'self': {'href': 'https://sobloo.eu/api/v1/services/explore/explore/catalog/_search?f=state.services.download%3Aeq%3Ainternal&f=acquisition.missionName%3Aeq%3ASentinel-P5', 'method': 'GET'}}}\n"
     ]
    }
   ],
   "source": [
    "cmd = \"https://sobloo.eu/api/v1/services/search?f=state.services.download:eq:internal&f=acquisition.missionName:eq:Sentinel-P5\"\n",
    "with requests.get(cmd, headers=headers, verify=False) as resp:\n",
    "    print(resp.status_code)\n",
    "    print(resp.json())"
   ]
  },
  {
   "cell_type": "code",
   "execution_count": 8,
   "metadata": {
    "pycharm": {
     "name": "#%%\n"
    }
   },
   "outputs": [],
   "source": [
    "from io import BytesIO\n",
    "df = pd.read_xml(BytesIO(resp.text.encode('utf-8')))"
   ]
  },
  {
   "cell_type": "markdown",
   "metadata": {
    "pycharm": {
     "name": "#%% md\n"
    }
   },
   "source": [
    "# CO Template\n",
    "```curl\n",
    "curl -X POST \\\n",
    "  https://creodias.sentinel-hub.com/api/v1/process \\\n",
    "  -H 'Authorization: Bearer <your access token>' \\\n",
    "  -F 'request={\n",
    "    \"input\": {\n",
    "        \"bounds\": {\n",
    "            \"properties\": {\n",
    "                \"crs\": \"http://www.opengis.net/def/crs/OGC/1.3/CRS84\"\n",
    "            },\n",
    "            \"bbox\": [\n",
    "                13,\n",
    "                45,\n",
    "                15,\n",
    "                47\n",
    "            ]\n",
    "        },\n",
    "        \"data\": [\n",
    "            {\n",
    "                \"type\": \"sentinel-5p-l2\",\n",
    "                \"dataFilter\": {\n",
    "                    \"timeRange\": {\n",
    "                        \"from\": \"2018-12-28T00:00:00Z\",\n",
    "                        \"to\": \"2018-12-31T00:00:00Z\"\n",
    "                    }\n",
    "                }\n",
    "            }\n",
    "        ]\n",
    "    },\n",
    "    \"output\": {\n",
    "        \"width\": 512,\n",
    "        \"height\": 512\n",
    "    }\n",
    "}' \\\n",
    "  -F 'evalscript=//VERSION=3\n",
    "function setup() {\n",
    "  return {\n",
    "    input: [\"CO\", \"dataMask\"],\n",
    "    output: { bands:  4 }\n",
    "  }\n",
    "}\n",
    "\n",
    "const minVal = 0.0\n",
    "const maxVal = 0.1\n",
    "const diff = maxVal - minVal\n",
    "\n",
    "const rainbowColors = [\n",
    "    [minVal, [0, 0, 0.5]],\n",
    "    [minVal + 0.125 * diff, [0, 0, 1]],\n",
    "    [minVal + 0.375 * diff, [0, 1, 1]],\n",
    "    [minVal + 0.625 * diff, [1, 1, 0]],\n",
    "    [minVal + 0.875 * diff, [1, 0, 0]],\n",
    "    [maxVal, [0.5, 0, 0]]\n",
    "]\n",
    "\n",
    "const viz = new ColorRampVisualizer(rainbowColors)\n",
    "\n",
    "function evaluatePixel(sample) {\n",
    "    var rgba= viz.process(sample.CO)\n",
    "    rgba.push(sample.dataMask)\n",
    "    return rgba\n",
    "}'\n",
    "```"
   ]
  },
  {
   "cell_type": "code",
   "execution_count": 33,
   "metadata": {
    "pycharm": {
     "name": "#%%\n"
    }
   },
   "outputs": [],
   "source": [
    "url = \"https://creodias.sentinel-hub.com/api/v1/process\"\n",
    "\n",
    "request = \"\"\"\n",
    "    \"input\": {\n",
    "        \"bounds\": {\n",
    "            \"properties\": {\n",
    "                \"crs\": \"http://www.opengis.net/def/crs/OGC/1.3/CRS84\"\n",
    "            },\n",
    "            \"bbox\": [\n",
    "                13,\n",
    "                45,\n",
    "                15,\n",
    "                47\n",
    "            ]\n",
    "        },\n",
    "        \"data\": [\n",
    "            {\n",
    "                \"type\": \"sentinel-5p-l2\",\n",
    "                \"dataFilter\": {\n",
    "                    \"timeRange\": {\n",
    "                        \"from\": \"2018-12-28T00:00:00Z\",\n",
    "                        \"to\": \"2018-12-31T00:00:00Z\"\n",
    "                    }\n",
    "                }\n",
    "            }\n",
    "        ]\n",
    "    },\n",
    "    \"output\": {\n",
    "        \"width\": 512,\n",
    "        \"height\": 512\n",
    "    }\n",
    "\"\"\"\n",
    "evalscript_CO = \"\"\"\n",
    "//VERSION=3\n",
    "function setup() {\n",
    "  return {\n",
    "    input: [\"CO\", \"dataMask\"],\n",
    "    output: { bands:  4 }\n",
    "  }\n",
    "}\n",
    "\n",
    "const minVal = 0.0\n",
    "const maxVal = 0.1\n",
    "const diff = maxVal - minVal\n",
    "\n",
    "const rainbowColors = [\n",
    "    [minVal, [0, 0, 0.5]],\n",
    "    [minVal + 0.125 * diff, [0, 0, 1]],\n",
    "    [minVal + 0.375 * diff, [0, 1, 1]],\n",
    "    [minVal + 0.625 * diff, [1, 1, 0]],\n",
    "    [minVal + 0.875 * diff, [1, 0, 0]],\n",
    "    [maxVal, [0.5, 0, 0]]\n",
    "]\n",
    "\"\"\"\n"
   ]
  },
  {
   "cell_type": "code",
   "execution_count": 31,
   "metadata": {
    "pycharm": {
     "name": "#%%\n"
    }
   },
   "outputs": [],
   "source": [
    "auth_header = {\"Authorization\": f\"Bearer {token['access_token']}\"}"
   ]
  },
  {
   "cell_type": "code",
   "execution_count": 41,
   "metadata": {
    "pycharm": {
     "name": "#%%\n"
    }
   },
   "outputs": [],
   "source": [
    "resp = requests.post(url, headers=auth_header, data= {\n",
    "    \"request\": request,\n",
    "    \"evalscript\": evalscript_CO,\n",
    "})"
   ]
  },
  {
   "cell_type": "code",
   "execution_count": 43,
   "metadata": {
    "pycharm": {
     "name": "#%%\n"
    }
   },
   "outputs": [
    {
     "data": {
      "text/plain": [
       "<Response [415]>"
      ]
     },
     "execution_count": 43,
     "metadata": {},
     "output_type": "execute_result"
    }
   ],
   "source": [
    "resp"
   ]
  },
  {
   "cell_type": "code",
   "execution_count": 36,
   "metadata": {
    "pycharm": {
     "name": "#%%\n"
    }
   },
   "outputs": [
    {
     "data": {
      "text/plain": [
       "'eyJraWQiOiJzaCIsImFsZyI6IlJTMjU2In0.eyJzdWIiOiI5OWI0YTA4NC0zNjc4LTQ0N2EtYmQyOC1hMGE5N2Q5MjE5NjMiLCJhdWQiOiI2NWZkNzY4Ny1lNjA1LTQ0ZmUtOTcxNi0zNDc2MWQwNDJmMGMiLCJqdGkiOiI4OWY4YTQyNS01YjJjLTQwMzItODdhMi1hNTVlZDJhZmU1ODIiLCJleHAiOjE2Njc2NTMxODIsIm5hbWUiOiJKYWt1YiBTdHJuYWQiLCJlbWFpbCI6Impha3ViLnN0cm5hZEBwcm90b25tYWlsLmNvbSIsImdpdmVuX25hbWUiOiJKYWt1YiIsImZhbWlseV9uYW1lIjoiU3RybmFkIiwic2lkIjoiNTE3OTk3MmItYzZlMS00ZTY0LTg3YTktZTgzZTVkM2RkZjY2IiwiZGlkIjoxLCJhaWQiOiI2ZTk1ZWRlOC02YjZhLTQ2MDAtYjg4My1jYmQ3NmZmMDk3ZWQiLCJkIjp7IjEiOnsicmEiOnsicmFnIjoxfSwidCI6MTEwMDB9fX0.R5RoG_BZNbOZpF-4gCfxQLo9XWCWMOl68MGrvO7I7IVPVPdvWuvCMntPNpSprzFzQhfKyFzttk0oZRlPY_qpo4xHJfsCug11aOEbruOmhgx1Y2v4dkhD6C9WCyot3Q-ZSEkaf1jPfLThFdSakjBN76t-osn1J3md8j_18Dqs0ztmgvc71bxrx1Xr_6nzJwGmcl3G_Nd22qG9gCPsM8bb-1Y3-8X69O3Rbpbp3KDzkfg_i3SP5VIbN67F2bNv0d5qceczSlq7jMrXrV5HvBigA7U8tG31bigGQrpfZ4jag9W92LAM6_W9BKJBVejzD2QhFO5Y2KgPe0_GNnELjDvo-w'"
      ]
     },
     "execution_count": 36,
     "metadata": {},
     "output_type": "execute_result"
    }
   ],
   "source": [
    "token[\"access_token\"]"
   ]
  }
 ],
 "metadata": {
  "kernelspec": {
   "display_name": "Python 3.10.5 64-bit ('3.10.5')",
   "language": "python",
   "name": "python3"
  },
  "language_info": {
   "codemirror_mode": {
    "name": "ipython",
    "version": 3
   },
   "file_extension": ".py",
   "mimetype": "text/x-python",
   "name": "python",
   "nbconvert_exporter": "python",
   "pygments_lexer": "ipython3",
   "version": "3.10.5"
  },
  "orig_nbformat": 4,
  "vscode": {
   "interpreter": {
    "hash": "d0503c43f2ab5c03bebd7bed60bd29ad5b59e3aca827470611dad3d52c7c85bb"
   }
  }
 },
 "nbformat": 4,
 "nbformat_minor": 2
}